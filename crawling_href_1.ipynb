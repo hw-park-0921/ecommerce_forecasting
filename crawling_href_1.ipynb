{
 "cells": [
  {
   "cell_type": "code",
   "execution_count": 112,
   "metadata": {
    "colab": {
     "base_uri": "https://localhost:8080/"
    },
    "id": "SdZeHCs4yAvR",
    "outputId": "b9143cd0-fbb0-4093-c938-de5b2353ee0b"
   },
   "outputs": [],
   "source": [
    "from bs4 import BeautifulSoup\n",
    "from selenium import webdriver\n",
    "from selenium.webdriver.common.keys import Keys\n",
    "\n",
    "import time\n",
    "import sys\n",
    "import re\n",
    "import math\n",
    "import numpy\n",
    "import pandas as pd\n",
    "import xlwt\n",
    "import random\n",
    "import os\n",
    "from os import path\n"
   ]
  },
  {
   "cell_type": "code",
   "execution_count": 113,
   "metadata": {
    "id": "a2FvMfBA0FGY"
   },
   "outputs": [],
   "source": [
    "query_txt = '11번가 쇼킹딜'\n",
    "query_url = 'https://deal.11st.co.kr/browsing/DealAction.tmall?method=getShockingDealMain'"
   ]
  },
  {
   "cell_type": "code",
   "execution_count": 114,
   "metadata": {
    "colab": {
     "base_uri": "https://localhost:8080/",
     "height": 35
    },
    "id": "7g0pKFyI-6eg",
    "outputId": "98241de5-1911-4ba1-8f1d-0aba563047cb"
   },
   "outputs": [],
   "source": [
    "# step 3. 저장될 파일 위치와 이름을 지정한 후 크롬 드라이버를 실행하여 페이지를 엽니다.\n",
    "\n",
    "now = time.localtime()\n",
    "s = '%04d-02%d-02%d-02%d-%02d-%02d' % (now.tm_year, now.tm_mon, now.tm_mday, now.tm_hour, now.tm_min, now.tm_sec)\n"
   ]
  },
  {
   "cell_type": "code",
   "execution_count": 152,
   "metadata": {
    "id": "2h2brvS5_khd"
   },
   "outputs": [],
   "source": [
    "'''\n",
    "sec_name = ''\n",
    "os.makedirs(f_dir+s+'-'+query_txt+'-'+sec_name)\n",
    "os.chdir(f_dir+s+'-'+query_txt+'-'+sec_name)\n",
    "\n",
    "ff_dir = f_dir+s+'-'+query_txt+'-'+sec_name\n",
    "fc_name= f_dir+s+'-'+query_txt+'-'+sec_name +\"\\\\\" +s+'-'+query_txt+'-'+sec_name+'.csv'\n",
    "'''\n",
    "s_time = time.time()\n",
    "\n",
    "path = '/Users/hyunwoopark/Desktop/chromedriver'\n",
    "driver = webdriver.Chrome(path)\n",
    "driver.get(query_url)\n",
    "time.sleep(0.1)\n"
   ]
  },
  {
   "cell_type": "code",
   "execution_count": null,
   "metadata": {},
   "outputs": [],
   "source": [
    "def scroll_down(driver):\n",
    "    for i in range(10):\n",
    "    # 끝까지 스크롤 다운\n",
    "        driver.execute_script(\"window.scrollTo(0, document.body.scrollHeight);\")\n",
    "        time.sleep(1)\n",
    "        driver.execute_script(\"window.scrollTo(document.body.scrollHeight, document.body.scrollHeight - 200 );\")\n",
    "        time.sleep(1)\n",
    "        driver.execute_script(\"window.scrollTo(0, document.body.scrollHeight);\")\n"
   ]
  },
  {
   "cell_type": "code",
   "execution_count": null,
   "metadata": {},
   "outputs": [],
   "source": [
    "def scroll_down(driver):      \n",
    "\n",
    "    for i in range(10):\n",
    "        \n",
    "        # Scroll down to bottom                                                      \n",
    "        driver.execute_script(\"window.scrollTo(0, document.body.scrollHeight);\")\n",
    "\n",
    "        # Wait to load page\n",
    "        time.sleep(1)                                                \n",
    "        driver.execute_script(\"window.scrollTo(0, document.body.scrollHeight-300);\")  \n",
    "        time.sleep(1)\n",
    "\n",
    "        # Calculate new scroll height and compare with last scroll height            \n",
    "        new_height = driver.execute_script(\"return document.body.scrollHeight\")\n"
   ]
  },
  {
   "cell_type": "code",
   "execution_count": 154,
   "metadata": {},
   "outputs": [
    {
     "ename": "MaxRetryError",
     "evalue": "HTTPConnectionPool(host='127.0.0.1', port=63599): Max retries exceeded with url: /session/1ca2ed6d88f8c4c83c09eb08ed8d1445/element (Caused by NewConnectionError('<urllib3.connection.HTTPConnection object at 0x7fa84aafcbb0>: Failed to establish a new connection: [Errno 61] Connection refused'))",
     "output_type": "error",
     "traceback": [
      "\u001b[0;31m---------------------------------------------------------------------------\u001b[0m",
      "\u001b[0;31mConnectionRefusedError\u001b[0m                    Traceback (most recent call last)",
      "\u001b[0;32m~/opt/anaconda3/lib/python3.8/site-packages/urllib3/connection.py\u001b[0m in \u001b[0;36m_new_conn\u001b[0;34m(self)\u001b[0m\n\u001b[1;32m    158\u001b[0m         \u001b[0;32mtry\u001b[0m\u001b[0;34m:\u001b[0m\u001b[0;34m\u001b[0m\u001b[0;34m\u001b[0m\u001b[0m\n\u001b[0;32m--> 159\u001b[0;31m             conn = connection.create_connection(\n\u001b[0m\u001b[1;32m    160\u001b[0m                 \u001b[0;34m(\u001b[0m\u001b[0mself\u001b[0m\u001b[0;34m.\u001b[0m\u001b[0m_dns_host\u001b[0m\u001b[0;34m,\u001b[0m \u001b[0mself\u001b[0m\u001b[0;34m.\u001b[0m\u001b[0mport\u001b[0m\u001b[0;34m)\u001b[0m\u001b[0;34m,\u001b[0m \u001b[0mself\u001b[0m\u001b[0;34m.\u001b[0m\u001b[0mtimeout\u001b[0m\u001b[0;34m,\u001b[0m \u001b[0;34m**\u001b[0m\u001b[0mextra_kw\u001b[0m\u001b[0;34m\u001b[0m\u001b[0;34m\u001b[0m\u001b[0m\n",
      "\u001b[0;32m~/opt/anaconda3/lib/python3.8/site-packages/urllib3/util/connection.py\u001b[0m in \u001b[0;36mcreate_connection\u001b[0;34m(address, timeout, source_address, socket_options)\u001b[0m\n\u001b[1;32m     83\u001b[0m     \u001b[0;32mif\u001b[0m \u001b[0merr\u001b[0m \u001b[0;32mis\u001b[0m \u001b[0;32mnot\u001b[0m \u001b[0;32mNone\u001b[0m\u001b[0;34m:\u001b[0m\u001b[0;34m\u001b[0m\u001b[0;34m\u001b[0m\u001b[0m\n\u001b[0;32m---> 84\u001b[0;31m         \u001b[0;32mraise\u001b[0m \u001b[0merr\u001b[0m\u001b[0;34m\u001b[0m\u001b[0;34m\u001b[0m\u001b[0m\n\u001b[0m\u001b[1;32m     85\u001b[0m \u001b[0;34m\u001b[0m\u001b[0m\n",
      "\u001b[0;32m~/opt/anaconda3/lib/python3.8/site-packages/urllib3/util/connection.py\u001b[0m in \u001b[0;36mcreate_connection\u001b[0;34m(address, timeout, source_address, socket_options)\u001b[0m\n\u001b[1;32m     73\u001b[0m                 \u001b[0msock\u001b[0m\u001b[0;34m.\u001b[0m\u001b[0mbind\u001b[0m\u001b[0;34m(\u001b[0m\u001b[0msource_address\u001b[0m\u001b[0;34m)\u001b[0m\u001b[0;34m\u001b[0m\u001b[0;34m\u001b[0m\u001b[0m\n\u001b[0;32m---> 74\u001b[0;31m             \u001b[0msock\u001b[0m\u001b[0;34m.\u001b[0m\u001b[0mconnect\u001b[0m\u001b[0;34m(\u001b[0m\u001b[0msa\u001b[0m\u001b[0;34m)\u001b[0m\u001b[0;34m\u001b[0m\u001b[0;34m\u001b[0m\u001b[0m\n\u001b[0m\u001b[1;32m     75\u001b[0m             \u001b[0;32mreturn\u001b[0m \u001b[0msock\u001b[0m\u001b[0;34m\u001b[0m\u001b[0;34m\u001b[0m\u001b[0m\n",
      "\u001b[0;31mConnectionRefusedError\u001b[0m: [Errno 61] Connection refused",
      "\nDuring handling of the above exception, another exception occurred:\n",
      "\u001b[0;31mNewConnectionError\u001b[0m                        Traceback (most recent call last)",
      "\u001b[0;32m~/opt/anaconda3/lib/python3.8/site-packages/urllib3/connectionpool.py\u001b[0m in \u001b[0;36murlopen\u001b[0;34m(self, method, url, body, headers, retries, redirect, assert_same_host, timeout, pool_timeout, release_conn, chunked, body_pos, **response_kw)\u001b[0m\n\u001b[1;32m    669\u001b[0m             \u001b[0;31m# Make the request on the httplib connection object.\u001b[0m\u001b[0;34m\u001b[0m\u001b[0;34m\u001b[0m\u001b[0;34m\u001b[0m\u001b[0m\n\u001b[0;32m--> 670\u001b[0;31m             httplib_response = self._make_request(\n\u001b[0m\u001b[1;32m    671\u001b[0m                 \u001b[0mconn\u001b[0m\u001b[0;34m,\u001b[0m\u001b[0;34m\u001b[0m\u001b[0;34m\u001b[0m\u001b[0m\n",
      "\u001b[0;32m~/opt/anaconda3/lib/python3.8/site-packages/urllib3/connectionpool.py\u001b[0m in \u001b[0;36m_make_request\u001b[0;34m(self, conn, method, url, timeout, chunked, **httplib_request_kw)\u001b[0m\n\u001b[1;32m    391\u001b[0m         \u001b[0;32melse\u001b[0m\u001b[0;34m:\u001b[0m\u001b[0;34m\u001b[0m\u001b[0;34m\u001b[0m\u001b[0m\n\u001b[0;32m--> 392\u001b[0;31m             \u001b[0mconn\u001b[0m\u001b[0;34m.\u001b[0m\u001b[0mrequest\u001b[0m\u001b[0;34m(\u001b[0m\u001b[0mmethod\u001b[0m\u001b[0;34m,\u001b[0m \u001b[0murl\u001b[0m\u001b[0;34m,\u001b[0m \u001b[0;34m**\u001b[0m\u001b[0mhttplib_request_kw\u001b[0m\u001b[0;34m)\u001b[0m\u001b[0;34m\u001b[0m\u001b[0;34m\u001b[0m\u001b[0m\n\u001b[0m\u001b[1;32m    393\u001b[0m \u001b[0;34m\u001b[0m\u001b[0m\n",
      "\u001b[0;32m~/opt/anaconda3/lib/python3.8/http/client.py\u001b[0m in \u001b[0;36mrequest\u001b[0;34m(self, method, url, body, headers, encode_chunked)\u001b[0m\n\u001b[1;32m   1239\u001b[0m         \u001b[0;34m\"\"\"Send a complete request to the server.\"\"\"\u001b[0m\u001b[0;34m\u001b[0m\u001b[0;34m\u001b[0m\u001b[0m\n\u001b[0;32m-> 1240\u001b[0;31m         \u001b[0mself\u001b[0m\u001b[0;34m.\u001b[0m\u001b[0m_send_request\u001b[0m\u001b[0;34m(\u001b[0m\u001b[0mmethod\u001b[0m\u001b[0;34m,\u001b[0m \u001b[0murl\u001b[0m\u001b[0;34m,\u001b[0m \u001b[0mbody\u001b[0m\u001b[0;34m,\u001b[0m \u001b[0mheaders\u001b[0m\u001b[0;34m,\u001b[0m \u001b[0mencode_chunked\u001b[0m\u001b[0;34m)\u001b[0m\u001b[0;34m\u001b[0m\u001b[0;34m\u001b[0m\u001b[0m\n\u001b[0m\u001b[1;32m   1241\u001b[0m \u001b[0;34m\u001b[0m\u001b[0m\n",
      "\u001b[0;32m~/opt/anaconda3/lib/python3.8/http/client.py\u001b[0m in \u001b[0;36m_send_request\u001b[0;34m(self, method, url, body, headers, encode_chunked)\u001b[0m\n\u001b[1;32m   1285\u001b[0m             \u001b[0mbody\u001b[0m \u001b[0;34m=\u001b[0m \u001b[0m_encode\u001b[0m\u001b[0;34m(\u001b[0m\u001b[0mbody\u001b[0m\u001b[0;34m,\u001b[0m \u001b[0;34m'body'\u001b[0m\u001b[0;34m)\u001b[0m\u001b[0;34m\u001b[0m\u001b[0;34m\u001b[0m\u001b[0m\n\u001b[0;32m-> 1286\u001b[0;31m         \u001b[0mself\u001b[0m\u001b[0;34m.\u001b[0m\u001b[0mendheaders\u001b[0m\u001b[0;34m(\u001b[0m\u001b[0mbody\u001b[0m\u001b[0;34m,\u001b[0m \u001b[0mencode_chunked\u001b[0m\u001b[0;34m=\u001b[0m\u001b[0mencode_chunked\u001b[0m\u001b[0;34m)\u001b[0m\u001b[0;34m\u001b[0m\u001b[0;34m\u001b[0m\u001b[0m\n\u001b[0m\u001b[1;32m   1287\u001b[0m \u001b[0;34m\u001b[0m\u001b[0m\n",
      "\u001b[0;32m~/opt/anaconda3/lib/python3.8/http/client.py\u001b[0m in \u001b[0;36mendheaders\u001b[0;34m(self, message_body, encode_chunked)\u001b[0m\n\u001b[1;32m   1234\u001b[0m             \u001b[0;32mraise\u001b[0m \u001b[0mCannotSendHeader\u001b[0m\u001b[0;34m(\u001b[0m\u001b[0;34m)\u001b[0m\u001b[0;34m\u001b[0m\u001b[0;34m\u001b[0m\u001b[0m\n\u001b[0;32m-> 1235\u001b[0;31m         \u001b[0mself\u001b[0m\u001b[0;34m.\u001b[0m\u001b[0m_send_output\u001b[0m\u001b[0;34m(\u001b[0m\u001b[0mmessage_body\u001b[0m\u001b[0;34m,\u001b[0m \u001b[0mencode_chunked\u001b[0m\u001b[0;34m=\u001b[0m\u001b[0mencode_chunked\u001b[0m\u001b[0;34m)\u001b[0m\u001b[0;34m\u001b[0m\u001b[0;34m\u001b[0m\u001b[0m\n\u001b[0m\u001b[1;32m   1236\u001b[0m \u001b[0;34m\u001b[0m\u001b[0m\n",
      "\u001b[0;32m~/opt/anaconda3/lib/python3.8/http/client.py\u001b[0m in \u001b[0;36m_send_output\u001b[0;34m(self, message_body, encode_chunked)\u001b[0m\n\u001b[1;32m   1005\u001b[0m         \u001b[0;32mdel\u001b[0m \u001b[0mself\u001b[0m\u001b[0;34m.\u001b[0m\u001b[0m_buffer\u001b[0m\u001b[0;34m[\u001b[0m\u001b[0;34m:\u001b[0m\u001b[0;34m]\u001b[0m\u001b[0;34m\u001b[0m\u001b[0;34m\u001b[0m\u001b[0m\n\u001b[0;32m-> 1006\u001b[0;31m         \u001b[0mself\u001b[0m\u001b[0;34m.\u001b[0m\u001b[0msend\u001b[0m\u001b[0;34m(\u001b[0m\u001b[0mmsg\u001b[0m\u001b[0;34m)\u001b[0m\u001b[0;34m\u001b[0m\u001b[0;34m\u001b[0m\u001b[0m\n\u001b[0m\u001b[1;32m   1007\u001b[0m \u001b[0;34m\u001b[0m\u001b[0m\n",
      "\u001b[0;32m~/opt/anaconda3/lib/python3.8/http/client.py\u001b[0m in \u001b[0;36msend\u001b[0;34m(self, data)\u001b[0m\n\u001b[1;32m    945\u001b[0m             \u001b[0;32mif\u001b[0m \u001b[0mself\u001b[0m\u001b[0;34m.\u001b[0m\u001b[0mauto_open\u001b[0m\u001b[0;34m:\u001b[0m\u001b[0;34m\u001b[0m\u001b[0;34m\u001b[0m\u001b[0m\n\u001b[0;32m--> 946\u001b[0;31m                 \u001b[0mself\u001b[0m\u001b[0;34m.\u001b[0m\u001b[0mconnect\u001b[0m\u001b[0;34m(\u001b[0m\u001b[0;34m)\u001b[0m\u001b[0;34m\u001b[0m\u001b[0;34m\u001b[0m\u001b[0m\n\u001b[0m\u001b[1;32m    947\u001b[0m             \u001b[0;32melse\u001b[0m\u001b[0;34m:\u001b[0m\u001b[0;34m\u001b[0m\u001b[0;34m\u001b[0m\u001b[0m\n",
      "\u001b[0;32m~/opt/anaconda3/lib/python3.8/site-packages/urllib3/connection.py\u001b[0m in \u001b[0;36mconnect\u001b[0;34m(self)\u001b[0m\n\u001b[1;32m    186\u001b[0m     \u001b[0;32mdef\u001b[0m \u001b[0mconnect\u001b[0m\u001b[0;34m(\u001b[0m\u001b[0mself\u001b[0m\u001b[0;34m)\u001b[0m\u001b[0;34m:\u001b[0m\u001b[0;34m\u001b[0m\u001b[0;34m\u001b[0m\u001b[0m\n\u001b[0;32m--> 187\u001b[0;31m         \u001b[0mconn\u001b[0m \u001b[0;34m=\u001b[0m \u001b[0mself\u001b[0m\u001b[0;34m.\u001b[0m\u001b[0m_new_conn\u001b[0m\u001b[0;34m(\u001b[0m\u001b[0;34m)\u001b[0m\u001b[0;34m\u001b[0m\u001b[0;34m\u001b[0m\u001b[0m\n\u001b[0m\u001b[1;32m    188\u001b[0m         \u001b[0mself\u001b[0m\u001b[0;34m.\u001b[0m\u001b[0m_prepare_conn\u001b[0m\u001b[0;34m(\u001b[0m\u001b[0mconn\u001b[0m\u001b[0;34m)\u001b[0m\u001b[0;34m\u001b[0m\u001b[0;34m\u001b[0m\u001b[0m\n",
      "\u001b[0;32m~/opt/anaconda3/lib/python3.8/site-packages/urllib3/connection.py\u001b[0m in \u001b[0;36m_new_conn\u001b[0;34m(self)\u001b[0m\n\u001b[1;32m    170\u001b[0m         \u001b[0;32mexcept\u001b[0m \u001b[0mSocketError\u001b[0m \u001b[0;32mas\u001b[0m \u001b[0me\u001b[0m\u001b[0;34m:\u001b[0m\u001b[0;34m\u001b[0m\u001b[0;34m\u001b[0m\u001b[0m\n\u001b[0;32m--> 171\u001b[0;31m             raise NewConnectionError(\n\u001b[0m\u001b[1;32m    172\u001b[0m                 \u001b[0mself\u001b[0m\u001b[0;34m,\u001b[0m \u001b[0;34m\"Failed to establish a new connection: %s\"\u001b[0m \u001b[0;34m%\u001b[0m \u001b[0me\u001b[0m\u001b[0;34m\u001b[0m\u001b[0;34m\u001b[0m\u001b[0m\n",
      "\u001b[0;31mNewConnectionError\u001b[0m: <urllib3.connection.HTTPConnection object at 0x7fa84aafcbb0>: Failed to establish a new connection: [Errno 61] Connection refused",
      "\nDuring handling of the above exception, another exception occurred:\n",
      "\u001b[0;31mMaxRetryError\u001b[0m                             Traceback (most recent call last)",
      "\u001b[0;32m<ipython-input-154-7239b8c8bf63>\u001b[0m in \u001b[0;36m<module>\u001b[0;34m\u001b[0m\n\u001b[1;32m      1\u001b[0m \u001b[0mcontent_href\u001b[0m \u001b[0;34m=\u001b[0m \u001b[0;34m[\u001b[0m\u001b[0;34m]\u001b[0m\u001b[0;34m\u001b[0m\u001b[0;34m\u001b[0m\u001b[0m\n\u001b[0;32m----> 2\u001b[0;31m \u001b[0mdriver\u001b[0m\u001b[0;34m.\u001b[0m\u001b[0mfind_element_by_xpath\u001b[0m\u001b[0;34m(\u001b[0m\u001b[0;34m\"\"\"//*[@id=\"dealCategoryAll\"]\"\"\"\u001b[0m\u001b[0;34m)\u001b[0m\u001b[0;34m.\u001b[0m\u001b[0msend_keys\u001b[0m\u001b[0;34m(\u001b[0m\u001b[0mKeys\u001b[0m\u001b[0;34m.\u001b[0m\u001b[0mENTER\u001b[0m\u001b[0;34m)\u001b[0m\u001b[0;34m\u001b[0m\u001b[0;34m\u001b[0m\u001b[0m\n\u001b[0m\u001b[1;32m      3\u001b[0m \u001b[0mtime\u001b[0m\u001b[0;34m.\u001b[0m\u001b[0msleep\u001b[0m\u001b[0;34m(\u001b[0m\u001b[0;36m0.1\u001b[0m\u001b[0;34m)\u001b[0m\u001b[0;34m\u001b[0m\u001b[0;34m\u001b[0m\u001b[0m\n\u001b[1;32m      4\u001b[0m \u001b[0mdriver\u001b[0m\u001b[0;34m.\u001b[0m\u001b[0mfind_element_by_xpath\u001b[0m\u001b[0;34m(\u001b[0m\u001b[0;34m\"\"\"//*[@id=\"ctgr947171\"]/a\"\"\"\u001b[0m\u001b[0;34m)\u001b[0m\u001b[0;34m.\u001b[0m\u001b[0msend_keys\u001b[0m\u001b[0;34m(\u001b[0m\u001b[0mKeys\u001b[0m\u001b[0;34m.\u001b[0m\u001b[0mENTER\u001b[0m\u001b[0;34m)\u001b[0m\u001b[0;34m\u001b[0m\u001b[0;34m\u001b[0m\u001b[0m\n\u001b[1;32m      5\u001b[0m \u001b[0;34m\u001b[0m\u001b[0m\n",
      "\u001b[0;32m~/opt/anaconda3/lib/python3.8/site-packages/selenium/webdriver/remote/webdriver.py\u001b[0m in \u001b[0;36mfind_element_by_xpath\u001b[0;34m(self, xpath)\u001b[0m\n\u001b[1;32m    392\u001b[0m             \u001b[0melement\u001b[0m \u001b[0;34m=\u001b[0m \u001b[0mdriver\u001b[0m\u001b[0;34m.\u001b[0m\u001b[0mfind_element_by_xpath\u001b[0m\u001b[0;34m(\u001b[0m\u001b[0;34m'//div/td[1]'\u001b[0m\u001b[0;34m)\u001b[0m\u001b[0;34m\u001b[0m\u001b[0;34m\u001b[0m\u001b[0m\n\u001b[1;32m    393\u001b[0m         \"\"\"\n\u001b[0;32m--> 394\u001b[0;31m         \u001b[0;32mreturn\u001b[0m \u001b[0mself\u001b[0m\u001b[0;34m.\u001b[0m\u001b[0mfind_element\u001b[0m\u001b[0;34m(\u001b[0m\u001b[0mby\u001b[0m\u001b[0;34m=\u001b[0m\u001b[0mBy\u001b[0m\u001b[0;34m.\u001b[0m\u001b[0mXPATH\u001b[0m\u001b[0;34m,\u001b[0m \u001b[0mvalue\u001b[0m\u001b[0;34m=\u001b[0m\u001b[0mxpath\u001b[0m\u001b[0;34m)\u001b[0m\u001b[0;34m\u001b[0m\u001b[0;34m\u001b[0m\u001b[0m\n\u001b[0m\u001b[1;32m    395\u001b[0m \u001b[0;34m\u001b[0m\u001b[0m\n\u001b[1;32m    396\u001b[0m     \u001b[0;32mdef\u001b[0m \u001b[0mfind_elements_by_xpath\u001b[0m\u001b[0;34m(\u001b[0m\u001b[0mself\u001b[0m\u001b[0;34m,\u001b[0m \u001b[0mxpath\u001b[0m\u001b[0;34m)\u001b[0m\u001b[0;34m:\u001b[0m\u001b[0;34m\u001b[0m\u001b[0;34m\u001b[0m\u001b[0m\n",
      "\u001b[0;32m~/opt/anaconda3/lib/python3.8/site-packages/selenium/webdriver/remote/webdriver.py\u001b[0m in \u001b[0;36mfind_element\u001b[0;34m(self, by, value)\u001b[0m\n\u001b[1;32m    974\u001b[0m                 \u001b[0mby\u001b[0m \u001b[0;34m=\u001b[0m \u001b[0mBy\u001b[0m\u001b[0;34m.\u001b[0m\u001b[0mCSS_SELECTOR\u001b[0m\u001b[0;34m\u001b[0m\u001b[0;34m\u001b[0m\u001b[0m\n\u001b[1;32m    975\u001b[0m                 \u001b[0mvalue\u001b[0m \u001b[0;34m=\u001b[0m \u001b[0;34m'[name=\"%s\"]'\u001b[0m \u001b[0;34m%\u001b[0m \u001b[0mvalue\u001b[0m\u001b[0;34m\u001b[0m\u001b[0;34m\u001b[0m\u001b[0m\n\u001b[0;32m--> 976\u001b[0;31m         return self.execute(Command.FIND_ELEMENT, {\n\u001b[0m\u001b[1;32m    977\u001b[0m             \u001b[0;34m'using'\u001b[0m\u001b[0;34m:\u001b[0m \u001b[0mby\u001b[0m\u001b[0;34m,\u001b[0m\u001b[0;34m\u001b[0m\u001b[0;34m\u001b[0m\u001b[0m\n\u001b[1;32m    978\u001b[0m             'value': value})['value']\n",
      "\u001b[0;32m~/opt/anaconda3/lib/python3.8/site-packages/selenium/webdriver/remote/webdriver.py\u001b[0m in \u001b[0;36mexecute\u001b[0;34m(self, driver_command, params)\u001b[0m\n\u001b[1;32m    317\u001b[0m \u001b[0;34m\u001b[0m\u001b[0m\n\u001b[1;32m    318\u001b[0m         \u001b[0mparams\u001b[0m \u001b[0;34m=\u001b[0m \u001b[0mself\u001b[0m\u001b[0;34m.\u001b[0m\u001b[0m_wrap_value\u001b[0m\u001b[0;34m(\u001b[0m\u001b[0mparams\u001b[0m\u001b[0;34m)\u001b[0m\u001b[0;34m\u001b[0m\u001b[0;34m\u001b[0m\u001b[0m\n\u001b[0;32m--> 319\u001b[0;31m         \u001b[0mresponse\u001b[0m \u001b[0;34m=\u001b[0m \u001b[0mself\u001b[0m\u001b[0;34m.\u001b[0m\u001b[0mcommand_executor\u001b[0m\u001b[0;34m.\u001b[0m\u001b[0mexecute\u001b[0m\u001b[0;34m(\u001b[0m\u001b[0mdriver_command\u001b[0m\u001b[0;34m,\u001b[0m \u001b[0mparams\u001b[0m\u001b[0;34m)\u001b[0m\u001b[0;34m\u001b[0m\u001b[0;34m\u001b[0m\u001b[0m\n\u001b[0m\u001b[1;32m    320\u001b[0m         \u001b[0;32mif\u001b[0m \u001b[0mresponse\u001b[0m\u001b[0;34m:\u001b[0m\u001b[0;34m\u001b[0m\u001b[0;34m\u001b[0m\u001b[0m\n\u001b[1;32m    321\u001b[0m             \u001b[0mself\u001b[0m\u001b[0;34m.\u001b[0m\u001b[0merror_handler\u001b[0m\u001b[0;34m.\u001b[0m\u001b[0mcheck_response\u001b[0m\u001b[0;34m(\u001b[0m\u001b[0mresponse\u001b[0m\u001b[0;34m)\u001b[0m\u001b[0;34m\u001b[0m\u001b[0;34m\u001b[0m\u001b[0m\n",
      "\u001b[0;32m~/opt/anaconda3/lib/python3.8/site-packages/selenium/webdriver/remote/remote_connection.py\u001b[0m in \u001b[0;36mexecute\u001b[0;34m(self, command, params)\u001b[0m\n\u001b[1;32m    372\u001b[0m         \u001b[0mdata\u001b[0m \u001b[0;34m=\u001b[0m \u001b[0mutils\u001b[0m\u001b[0;34m.\u001b[0m\u001b[0mdump_json\u001b[0m\u001b[0;34m(\u001b[0m\u001b[0mparams\u001b[0m\u001b[0;34m)\u001b[0m\u001b[0;34m\u001b[0m\u001b[0;34m\u001b[0m\u001b[0m\n\u001b[1;32m    373\u001b[0m         \u001b[0murl\u001b[0m \u001b[0;34m=\u001b[0m \u001b[0;34m'%s%s'\u001b[0m \u001b[0;34m%\u001b[0m \u001b[0;34m(\u001b[0m\u001b[0mself\u001b[0m\u001b[0;34m.\u001b[0m\u001b[0m_url\u001b[0m\u001b[0;34m,\u001b[0m \u001b[0mpath\u001b[0m\u001b[0;34m)\u001b[0m\u001b[0;34m\u001b[0m\u001b[0;34m\u001b[0m\u001b[0m\n\u001b[0;32m--> 374\u001b[0;31m         \u001b[0;32mreturn\u001b[0m \u001b[0mself\u001b[0m\u001b[0;34m.\u001b[0m\u001b[0m_request\u001b[0m\u001b[0;34m(\u001b[0m\u001b[0mcommand_info\u001b[0m\u001b[0;34m[\u001b[0m\u001b[0;36m0\u001b[0m\u001b[0;34m]\u001b[0m\u001b[0;34m,\u001b[0m \u001b[0murl\u001b[0m\u001b[0;34m,\u001b[0m \u001b[0mbody\u001b[0m\u001b[0;34m=\u001b[0m\u001b[0mdata\u001b[0m\u001b[0;34m)\u001b[0m\u001b[0;34m\u001b[0m\u001b[0;34m\u001b[0m\u001b[0m\n\u001b[0m\u001b[1;32m    375\u001b[0m \u001b[0;34m\u001b[0m\u001b[0m\n\u001b[1;32m    376\u001b[0m     \u001b[0;32mdef\u001b[0m \u001b[0m_request\u001b[0m\u001b[0;34m(\u001b[0m\u001b[0mself\u001b[0m\u001b[0;34m,\u001b[0m \u001b[0mmethod\u001b[0m\u001b[0;34m,\u001b[0m \u001b[0murl\u001b[0m\u001b[0;34m,\u001b[0m \u001b[0mbody\u001b[0m\u001b[0;34m=\u001b[0m\u001b[0;32mNone\u001b[0m\u001b[0;34m)\u001b[0m\u001b[0;34m:\u001b[0m\u001b[0;34m\u001b[0m\u001b[0;34m\u001b[0m\u001b[0m\n",
      "\u001b[0;32m~/opt/anaconda3/lib/python3.8/site-packages/selenium/webdriver/remote/remote_connection.py\u001b[0m in \u001b[0;36m_request\u001b[0;34m(self, method, url, body)\u001b[0m\n\u001b[1;32m    395\u001b[0m \u001b[0;34m\u001b[0m\u001b[0m\n\u001b[1;32m    396\u001b[0m         \u001b[0;32mif\u001b[0m \u001b[0mself\u001b[0m\u001b[0;34m.\u001b[0m\u001b[0mkeep_alive\u001b[0m\u001b[0;34m:\u001b[0m\u001b[0;34m\u001b[0m\u001b[0;34m\u001b[0m\u001b[0m\n\u001b[0;32m--> 397\u001b[0;31m             \u001b[0mresp\u001b[0m \u001b[0;34m=\u001b[0m \u001b[0mself\u001b[0m\u001b[0;34m.\u001b[0m\u001b[0m_conn\u001b[0m\u001b[0;34m.\u001b[0m\u001b[0mrequest\u001b[0m\u001b[0;34m(\u001b[0m\u001b[0mmethod\u001b[0m\u001b[0;34m,\u001b[0m \u001b[0murl\u001b[0m\u001b[0;34m,\u001b[0m \u001b[0mbody\u001b[0m\u001b[0;34m=\u001b[0m\u001b[0mbody\u001b[0m\u001b[0;34m,\u001b[0m \u001b[0mheaders\u001b[0m\u001b[0;34m=\u001b[0m\u001b[0mheaders\u001b[0m\u001b[0;34m)\u001b[0m\u001b[0;34m\u001b[0m\u001b[0;34m\u001b[0m\u001b[0m\n\u001b[0m\u001b[1;32m    398\u001b[0m \u001b[0;34m\u001b[0m\u001b[0m\n\u001b[1;32m    399\u001b[0m             \u001b[0mstatuscode\u001b[0m \u001b[0;34m=\u001b[0m \u001b[0mresp\u001b[0m\u001b[0;34m.\u001b[0m\u001b[0mstatus\u001b[0m\u001b[0;34m\u001b[0m\u001b[0;34m\u001b[0m\u001b[0m\n",
      "\u001b[0;32m~/opt/anaconda3/lib/python3.8/site-packages/urllib3/request.py\u001b[0m in \u001b[0;36mrequest\u001b[0;34m(self, method, url, fields, headers, **urlopen_kw)\u001b[0m\n\u001b[1;32m     77\u001b[0m             )\n\u001b[1;32m     78\u001b[0m         \u001b[0;32melse\u001b[0m\u001b[0;34m:\u001b[0m\u001b[0;34m\u001b[0m\u001b[0;34m\u001b[0m\u001b[0m\n\u001b[0;32m---> 79\u001b[0;31m             return self.request_encode_body(\n\u001b[0m\u001b[1;32m     80\u001b[0m                 \u001b[0mmethod\u001b[0m\u001b[0;34m,\u001b[0m \u001b[0murl\u001b[0m\u001b[0;34m,\u001b[0m \u001b[0mfields\u001b[0m\u001b[0;34m=\u001b[0m\u001b[0mfields\u001b[0m\u001b[0;34m,\u001b[0m \u001b[0mheaders\u001b[0m\u001b[0;34m=\u001b[0m\u001b[0mheaders\u001b[0m\u001b[0;34m,\u001b[0m \u001b[0;34m**\u001b[0m\u001b[0murlopen_kw\u001b[0m\u001b[0;34m\u001b[0m\u001b[0;34m\u001b[0m\u001b[0m\n\u001b[1;32m     81\u001b[0m             )\n",
      "\u001b[0;32m~/opt/anaconda3/lib/python3.8/site-packages/urllib3/request.py\u001b[0m in \u001b[0;36mrequest_encode_body\u001b[0;34m(self, method, url, fields, headers, encode_multipart, multipart_boundary, **urlopen_kw)\u001b[0m\n\u001b[1;32m    169\u001b[0m         \u001b[0mextra_kw\u001b[0m\u001b[0;34m.\u001b[0m\u001b[0mupdate\u001b[0m\u001b[0;34m(\u001b[0m\u001b[0murlopen_kw\u001b[0m\u001b[0;34m)\u001b[0m\u001b[0;34m\u001b[0m\u001b[0;34m\u001b[0m\u001b[0m\n\u001b[1;32m    170\u001b[0m \u001b[0;34m\u001b[0m\u001b[0m\n\u001b[0;32m--> 171\u001b[0;31m         \u001b[0;32mreturn\u001b[0m \u001b[0mself\u001b[0m\u001b[0;34m.\u001b[0m\u001b[0murlopen\u001b[0m\u001b[0;34m(\u001b[0m\u001b[0mmethod\u001b[0m\u001b[0;34m,\u001b[0m \u001b[0murl\u001b[0m\u001b[0;34m,\u001b[0m \u001b[0;34m**\u001b[0m\u001b[0mextra_kw\u001b[0m\u001b[0;34m)\u001b[0m\u001b[0;34m\u001b[0m\u001b[0;34m\u001b[0m\u001b[0m\n\u001b[0m",
      "\u001b[0;32m~/opt/anaconda3/lib/python3.8/site-packages/urllib3/poolmanager.py\u001b[0m in \u001b[0;36murlopen\u001b[0;34m(self, method, url, redirect, **kw)\u001b[0m\n\u001b[1;32m    334\u001b[0m             \u001b[0mresponse\u001b[0m \u001b[0;34m=\u001b[0m \u001b[0mconn\u001b[0m\u001b[0;34m.\u001b[0m\u001b[0murlopen\u001b[0m\u001b[0;34m(\u001b[0m\u001b[0mmethod\u001b[0m\u001b[0;34m,\u001b[0m \u001b[0murl\u001b[0m\u001b[0;34m,\u001b[0m \u001b[0;34m**\u001b[0m\u001b[0mkw\u001b[0m\u001b[0;34m)\u001b[0m\u001b[0;34m\u001b[0m\u001b[0;34m\u001b[0m\u001b[0m\n\u001b[1;32m    335\u001b[0m         \u001b[0;32melse\u001b[0m\u001b[0;34m:\u001b[0m\u001b[0;34m\u001b[0m\u001b[0;34m\u001b[0m\u001b[0m\n\u001b[0;32m--> 336\u001b[0;31m             \u001b[0mresponse\u001b[0m \u001b[0;34m=\u001b[0m \u001b[0mconn\u001b[0m\u001b[0;34m.\u001b[0m\u001b[0murlopen\u001b[0m\u001b[0;34m(\u001b[0m\u001b[0mmethod\u001b[0m\u001b[0;34m,\u001b[0m \u001b[0mu\u001b[0m\u001b[0;34m.\u001b[0m\u001b[0mrequest_uri\u001b[0m\u001b[0;34m,\u001b[0m \u001b[0;34m**\u001b[0m\u001b[0mkw\u001b[0m\u001b[0;34m)\u001b[0m\u001b[0;34m\u001b[0m\u001b[0;34m\u001b[0m\u001b[0m\n\u001b[0m\u001b[1;32m    337\u001b[0m \u001b[0;34m\u001b[0m\u001b[0m\n\u001b[1;32m    338\u001b[0m         \u001b[0mredirect_location\u001b[0m \u001b[0;34m=\u001b[0m \u001b[0mredirect\u001b[0m \u001b[0;32mand\u001b[0m \u001b[0mresponse\u001b[0m\u001b[0;34m.\u001b[0m\u001b[0mget_redirect_location\u001b[0m\u001b[0;34m(\u001b[0m\u001b[0;34m)\u001b[0m\u001b[0;34m\u001b[0m\u001b[0;34m\u001b[0m\u001b[0m\n",
      "\u001b[0;32m~/opt/anaconda3/lib/python3.8/site-packages/urllib3/connectionpool.py\u001b[0m in \u001b[0;36murlopen\u001b[0;34m(self, method, url, body, headers, retries, redirect, assert_same_host, timeout, pool_timeout, release_conn, chunked, body_pos, **response_kw)\u001b[0m\n\u001b[1;32m    750\u001b[0m                 \u001b[0;34m\"Retrying (%r) after connection broken by '%r': %s\"\u001b[0m\u001b[0;34m,\u001b[0m \u001b[0mretries\u001b[0m\u001b[0;34m,\u001b[0m \u001b[0merr\u001b[0m\u001b[0;34m,\u001b[0m \u001b[0murl\u001b[0m\u001b[0;34m\u001b[0m\u001b[0;34m\u001b[0m\u001b[0m\n\u001b[1;32m    751\u001b[0m             )\n\u001b[0;32m--> 752\u001b[0;31m             return self.urlopen(\n\u001b[0m\u001b[1;32m    753\u001b[0m                 \u001b[0mmethod\u001b[0m\u001b[0;34m,\u001b[0m\u001b[0;34m\u001b[0m\u001b[0;34m\u001b[0m\u001b[0m\n\u001b[1;32m    754\u001b[0m                 \u001b[0murl\u001b[0m\u001b[0;34m,\u001b[0m\u001b[0;34m\u001b[0m\u001b[0;34m\u001b[0m\u001b[0m\n",
      "\u001b[0;32m~/opt/anaconda3/lib/python3.8/site-packages/urllib3/connectionpool.py\u001b[0m in \u001b[0;36murlopen\u001b[0;34m(self, method, url, body, headers, retries, redirect, assert_same_host, timeout, pool_timeout, release_conn, chunked, body_pos, **response_kw)\u001b[0m\n\u001b[1;32m    750\u001b[0m                 \u001b[0;34m\"Retrying (%r) after connection broken by '%r': %s\"\u001b[0m\u001b[0;34m,\u001b[0m \u001b[0mretries\u001b[0m\u001b[0;34m,\u001b[0m \u001b[0merr\u001b[0m\u001b[0;34m,\u001b[0m \u001b[0murl\u001b[0m\u001b[0;34m\u001b[0m\u001b[0;34m\u001b[0m\u001b[0m\n\u001b[1;32m    751\u001b[0m             )\n\u001b[0;32m--> 752\u001b[0;31m             return self.urlopen(\n\u001b[0m\u001b[1;32m    753\u001b[0m                 \u001b[0mmethod\u001b[0m\u001b[0;34m,\u001b[0m\u001b[0;34m\u001b[0m\u001b[0;34m\u001b[0m\u001b[0m\n\u001b[1;32m    754\u001b[0m                 \u001b[0murl\u001b[0m\u001b[0;34m,\u001b[0m\u001b[0;34m\u001b[0m\u001b[0;34m\u001b[0m\u001b[0m\n",
      "\u001b[0;32m~/opt/anaconda3/lib/python3.8/site-packages/urllib3/connectionpool.py\u001b[0m in \u001b[0;36murlopen\u001b[0;34m(self, method, url, body, headers, retries, redirect, assert_same_host, timeout, pool_timeout, release_conn, chunked, body_pos, **response_kw)\u001b[0m\n\u001b[1;32m    750\u001b[0m                 \u001b[0;34m\"Retrying (%r) after connection broken by '%r': %s\"\u001b[0m\u001b[0;34m,\u001b[0m \u001b[0mretries\u001b[0m\u001b[0;34m,\u001b[0m \u001b[0merr\u001b[0m\u001b[0;34m,\u001b[0m \u001b[0murl\u001b[0m\u001b[0;34m\u001b[0m\u001b[0;34m\u001b[0m\u001b[0m\n\u001b[1;32m    751\u001b[0m             )\n\u001b[0;32m--> 752\u001b[0;31m             return self.urlopen(\n\u001b[0m\u001b[1;32m    753\u001b[0m                 \u001b[0mmethod\u001b[0m\u001b[0;34m,\u001b[0m\u001b[0;34m\u001b[0m\u001b[0;34m\u001b[0m\u001b[0m\n\u001b[1;32m    754\u001b[0m                 \u001b[0murl\u001b[0m\u001b[0;34m,\u001b[0m\u001b[0;34m\u001b[0m\u001b[0;34m\u001b[0m\u001b[0m\n",
      "\u001b[0;32m~/opt/anaconda3/lib/python3.8/site-packages/urllib3/connectionpool.py\u001b[0m in \u001b[0;36murlopen\u001b[0;34m(self, method, url, body, headers, retries, redirect, assert_same_host, timeout, pool_timeout, release_conn, chunked, body_pos, **response_kw)\u001b[0m\n\u001b[1;32m    722\u001b[0m                 \u001b[0me\u001b[0m \u001b[0;34m=\u001b[0m \u001b[0mProtocolError\u001b[0m\u001b[0;34m(\u001b[0m\u001b[0;34m\"Connection aborted.\"\u001b[0m\u001b[0;34m,\u001b[0m \u001b[0me\u001b[0m\u001b[0;34m)\u001b[0m\u001b[0;34m\u001b[0m\u001b[0;34m\u001b[0m\u001b[0m\n\u001b[1;32m    723\u001b[0m \u001b[0;34m\u001b[0m\u001b[0m\n\u001b[0;32m--> 724\u001b[0;31m             retries = retries.increment(\n\u001b[0m\u001b[1;32m    725\u001b[0m                 \u001b[0mmethod\u001b[0m\u001b[0;34m,\u001b[0m \u001b[0murl\u001b[0m\u001b[0;34m,\u001b[0m \u001b[0merror\u001b[0m\u001b[0;34m=\u001b[0m\u001b[0me\u001b[0m\u001b[0;34m,\u001b[0m \u001b[0m_pool\u001b[0m\u001b[0;34m=\u001b[0m\u001b[0mself\u001b[0m\u001b[0;34m,\u001b[0m \u001b[0m_stacktrace\u001b[0m\u001b[0;34m=\u001b[0m\u001b[0msys\u001b[0m\u001b[0;34m.\u001b[0m\u001b[0mexc_info\u001b[0m\u001b[0;34m(\u001b[0m\u001b[0;34m)\u001b[0m\u001b[0;34m[\u001b[0m\u001b[0;36m2\u001b[0m\u001b[0;34m]\u001b[0m\u001b[0;34m\u001b[0m\u001b[0;34m\u001b[0m\u001b[0m\n\u001b[1;32m    726\u001b[0m             )\n",
      "\u001b[0;32m~/opt/anaconda3/lib/python3.8/site-packages/urllib3/util/retry.py\u001b[0m in \u001b[0;36mincrement\u001b[0;34m(self, method, url, response, error, _pool, _stacktrace)\u001b[0m\n\u001b[1;32m    437\u001b[0m \u001b[0;34m\u001b[0m\u001b[0m\n\u001b[1;32m    438\u001b[0m         \u001b[0;32mif\u001b[0m \u001b[0mnew_retry\u001b[0m\u001b[0;34m.\u001b[0m\u001b[0mis_exhausted\u001b[0m\u001b[0;34m(\u001b[0m\u001b[0;34m)\u001b[0m\u001b[0;34m:\u001b[0m\u001b[0;34m\u001b[0m\u001b[0;34m\u001b[0m\u001b[0m\n\u001b[0;32m--> 439\u001b[0;31m             \u001b[0;32mraise\u001b[0m \u001b[0mMaxRetryError\u001b[0m\u001b[0;34m(\u001b[0m\u001b[0m_pool\u001b[0m\u001b[0;34m,\u001b[0m \u001b[0murl\u001b[0m\u001b[0;34m,\u001b[0m \u001b[0merror\u001b[0m \u001b[0;32mor\u001b[0m \u001b[0mResponseError\u001b[0m\u001b[0;34m(\u001b[0m\u001b[0mcause\u001b[0m\u001b[0;34m)\u001b[0m\u001b[0;34m)\u001b[0m\u001b[0;34m\u001b[0m\u001b[0;34m\u001b[0m\u001b[0m\n\u001b[0m\u001b[1;32m    440\u001b[0m \u001b[0;34m\u001b[0m\u001b[0m\n\u001b[1;32m    441\u001b[0m         \u001b[0mlog\u001b[0m\u001b[0;34m.\u001b[0m\u001b[0mdebug\u001b[0m\u001b[0;34m(\u001b[0m\u001b[0;34m\"Incremented Retry for (url='%s'): %r\"\u001b[0m\u001b[0;34m,\u001b[0m \u001b[0murl\u001b[0m\u001b[0;34m,\u001b[0m \u001b[0mnew_retry\u001b[0m\u001b[0;34m)\u001b[0m\u001b[0;34m\u001b[0m\u001b[0;34m\u001b[0m\u001b[0m\n",
      "\u001b[0;31mMaxRetryError\u001b[0m: HTTPConnectionPool(host='127.0.0.1', port=63599): Max retries exceeded with url: /session/1ca2ed6d88f8c4c83c09eb08ed8d1445/element (Caused by NewConnectionError('<urllib3.connection.HTTPConnection object at 0x7fa84aafcbb0>: Failed to establish a new connection: [Errno 61] Connection refused'))"
     ]
    }
   ],
   "source": [
    "content_href = []\n",
    "driver.find_element_by_xpath(\"\"\"//*[@id=\"dealCategoryAll\"]\"\"\").send_keys(Keys.ENTER)\n",
    "time.sleep(0.1)\n",
    "driver.find_element_by_xpath(\"\"\"//*[@id=\"ctgr947171\"]/a\"\"\").send_keys(Keys.ENTER)\n",
    "\n",
    "last_height = driver.execute_script(\"return document.body.scrollHeight\")\n",
    "for i in range(3):\n",
    "    driver.execute_script(\"window.scrollTo(0, document.body.scrollHeight);\")\n",
    "    time.sleep(1)\n",
    "    driver.execute_script(\"window.scrollTo(0, document.body.scrollHeight-300);\")\n",
    "    time.sleep(1)\n",
    "    driver.execute_script(\"window.scrollTo(0, document.body.scrollHeight);\")\n",
    "full_html = driver.page_source\n",
    "soup = BeautifulSoup(full_html, 'html.parser')\n",
    "        \n",
    "for cfix in soup.find_all('div', class_ = 'viewtype3'):\n",
    "    for box_pd in cfix.find_all('li'):\n",
    "        content_href.append(box_pd.find('a')['href'])\n"
   ]
  },
  {
   "cell_type": "code",
   "execution_count": 144,
   "metadata": {},
   "outputs": [
    {
     "data": {
      "text/plain": [
       "196"
      ]
     },
     "execution_count": 144,
     "metadata": {},
     "output_type": "execute_result"
    }
   ],
   "source": [
    "len(content_href)"
   ]
  },
  {
   "cell_type": "code",
   "execution_count": 81,
   "metadata": {},
   "outputs": [],
   "source": [
    "driver.get(query_url)\n",
    "time.sleep(1)\n",
    "driver.find_element_by_xpath(\"\"\"//*[@id=\"dealCategoryAll\"]\"\"\").send_keys(Keys.ENTER)\n",
    "time.sleep(0.5)\n",
    "driver.find_element_by_xpath(\"\"\"//*[@id=\"meta129397\"]/a\"\"\").click()\n",
    "time.sleep(0.3)\n",
    "driver.find_element_by_xpath(\"\"\"//*[@id=\"ctgr947171\"]/a\"\"\").click()"
   ]
  },
  {
   "cell_type": "code",
   "execution_count": 70,
   "metadata": {},
   "outputs": [
    {
     "data": {
      "text/plain": [
       "196"
      ]
     },
     "execution_count": 70,
     "metadata": {},
     "output_type": "execute_result"
    }
   ],
   "source": [
    "len(content_href)"
   ]
  },
  {
   "cell_type": "code",
   "execution_count": null,
   "metadata": {
    "scrolled": false
   },
   "outputs": [],
   "source": [
    "#분야별 더보기 버튼을 눌러 페이즐 엽니다. //*[@id=\"meta129397\"]/a\n",
    "def href_crawler():\n",
    "    content_href = []\n",
    "    for sec in range(1,80):\n",
    "        driver.get(query_url)\n",
    "        time.sleep(1)\n",
    "        driver.find_element_by_xpath(\"\"\"//*[@id=\"dealCategoryAll\"]\"\"\").send_keys(Keys.ENTER)\n",
    "        time.sleep(0.5)\n",
    "        if sec == 1:\n",
    "            driver.find_element_by_xpath(\"\"\"//*[@id=\"ctgr947171\"]/a\"\"\").click()\n",
    "        elif sec == 2:\n",
    "            driver.find_element_by_xpath(\"\"\"//*[@id=\"ctgr947173\"]/a\"\"\").send_keys(Keys.ENTER)\n",
    "        elif sec == 3:\n",
    "            driver.find_element_by_xpath(\"\"\"//*[@id=\"ctgr947176\"]/a\"\"\").send_keys(Keys.ENTER)\n",
    "        elif sec == 4:\n",
    "            driver.find_element_by_xpath(\"\"\"//*[@id=\"ctgr947209\"]/a\"\"\").click()\n",
    "        elif sec == 5:\n",
    "            driver.find_element_by_xpath(\"\"\"//*[@id=\"ctgr947210\"]/a\"\"\").click()\n",
    "        elif sec == 6:\n",
    "            driver.find_element_by_xpath(\"\"\"//*[@id=\"ctgr947212\"]/a\"\"\").click()\n",
    "        elif sec == 7:\n",
    "            driver.find_element_by_xpath(\"\"\"//*[@id=\"ctgr947887\"]/a\"\"\").click()\n",
    "        elif sec == 8:\n",
    "            driver.find_element_by_xpath(\"\"\"//*[@id=\"ctgr947232\"]/a\"\"\").click()\n",
    "        elif sec == 9:\n",
    "            driver.find_element_by_xpath(\"\"\"//*[@id=\"ctgr947228\"]/a\"\"\").click()\n",
    "        elif sec == 10:\n",
    "            driver.find_element_by_xpath(\"\"\"//*[@id=\"ctgr947229\"]/a\"\"\").click()\n",
    "        elif sec == 11:\n",
    "            driver.find_element_by_xpath(\"\"\"//*[@id=\"ctgr947229\"]/a\"\"\").click()\n",
    "        elif sec == 12:\n",
    "            driver.find_element_by_xpath(\"\"\"//*[@id=\"ctgr947229\"]/a\"\"\").click()\n",
    "        elif sec == 13:\n",
    "            driver.find_element_by_xpath(\"\"\"//*[@id=\"ctgr947237\"]/a\"\"\").click()\n",
    "        elif sec == 14:\n",
    "            driver.find_element_by_xpath(\"\"\"//*[@id=\"ctgr947237\"]/a\"\"\").click()\n",
    "        elif sec == 15:\n",
    "            driver.find_element_by_xpath(\"\"\"//*[@id=\"ctgr947237\"]/a\"\"\").click()\n",
    "        elif sec == 16:\n",
    "            driver.find_element_by_xpath(\"\"\"//*[@id=\"ctgr947233\"]/a\"\"\").click()\n",
    "        elif sec == 17:\n",
    "            driver.find_element_by_xpath(\"\"\"//*[@id=\"ctgr947897\"]/a\"\"\").click()\n",
    "        elif sec == 18:\n",
    "            driver.find_element_by_xpath(\"\"\"//*[@id=\"ctgr948199\"]/a\"\"\").click()\n",
    "        elif sec == 19:\n",
    "            driver.find_element_by_xpath(\"\"\"//*[@id=\"meta129398\"]/a\"\"\").click()\n",
    "            driver.find_element_by_xpath(\"\"\"//*[@id=\"ctgr947242\"]/a\"\"\").click()\n",
    "        elif sec == 20:\n",
    "            driver.find_element_by_xpath(\"\"\"//*[@id=\"meta129398\"]/a\"\"\").click()\n",
    "            driver.find_element_by_xpath(\"\"\"//*[@id=\"ctgr947245\"]/a\"\"\").click()\n",
    "        elif sec == 21:\n",
    "            driver.find_element_by_xpath(\"\"\"//*[@id=\"meta129398\"]/a\"\"\").click()\n",
    "            driver.find_element_by_xpath(\"\"\"//*[@id=\"ctgr947244\"]/a\"\"\").click()\n",
    "        elif sec == 22:\n",
    "            driver.find_element_by_xpath(\"\"\"//*[@id=\"meta129398\"]/a\"\"\").click()\n",
    "            driver.find_element_by_xpath(\"\"\"//*[@id=\"ctgr947240\"]/a\"\"\").click()\n",
    "        elif sec == 23:\n",
    "            driver.find_element_by_xpath(\"\"\"//*[@id=\"meta129398\"]/a\"\"\").click()\n",
    "            driver.find_element_by_xpath(\"\"\"//*[@id=\"ctgr947285\"]/a\"\"\").click()\n",
    "        elif sec == 24:\n",
    "            driver.find_element_by_xpath(\"\"\"//*[@id=\"meta129398\"]/a\"\"\").click()\n",
    "            driver.find_element_by_xpath(\"\"\"//*[@id=\"ctgr947286\"]/a\"\"\").click()\n",
    "        elif sec == 25:\n",
    "            driver.find_element_by_xpath(\"\"\"//*[@id=\"meta129398\"]/a\"\"\").click()\n",
    "            driver.find_element_by_xpath(\"\"\"//*[@id=\"ctgr947904\"]/a\"\"\").click()\n",
    "        elif sec == 26:\n",
    "            driver.find_element_by_xpath(\"\"\"//*[@id=\"meta129398\"]/a\"\"\").click()\n",
    "            driver.find_element_by_xpath(\"\"\"//*[@id=\"ctgr947289\"]/a\"\"\").click()\n",
    "        elif sec == 27:\n",
    "            driver.find_element_by_xpath(\"\"\"//*[@id=\"meta129398\"]/a\"\"\").click()\n",
    "            driver.find_element_by_xpath(\"\"\"//*[@id=\"ctgr947288\"]/a\"\"\").click()\n",
    "        elif sec == 28:\n",
    "            driver.find_element_by_xpath(\"\"\"//*[@id=\"meta129398\"]/a\"\"\").click()\n",
    "            driver.find_element_by_xpath(\"\"\"//*[@id=\"ctgr947287\"]/a\"\"\").click()\n",
    "        elif sec == 29:\n",
    "            driver.find_element_by_xpath(\"\"\"//*[@id=\"meta129398\"]/a\"\"\").click()\n",
    "            driver.find_element_by_xpath(\"\"\"//*[@id=\"ctgr947247\"]/a\"\"\").click()\n",
    "        elif sec == 30:\n",
    "            driver.find_element_by_xpath(\"\"\"//*[@id=\"meta129398\"]/a\"\"\").click()\n",
    "            driver.find_element_by_xpath(\"\"\"//*[@id=\"ctgr947248\"]/a\"\"\").click()\n",
    "        elif sec == 31:\n",
    "            driver.find_element_by_xpath(\"\"\"//*[@id=\"meta129398\"]/a\"\"\").click()\n",
    "            driver.find_element_by_xpath(\"\"\"//*[@id=\"ctgr947249\"]/a\"\"\").click()\n",
    "        elif sec == 32:\n",
    "            driver.find_element_by_xpath(\"\"\"//*[@id=\"meta129398\"]/a\"\"\").click()\n",
    "            driver.find_element_by_xpath(\"\"\"//*[@id=\"ctgr947246\"]/a\"\"\").click()\n",
    "        elif sec == 33:\n",
    "            driver.find_element_by_xpath(\"\"\"//*[@id=\"meta129398\"]/a\"\"\").click()\n",
    "            driver.find_element_by_xpath(\"\"\"//*[@id=\"ctgr947268\"]/a\"\"\").click()\n",
    "        elif sec == 34:\n",
    "            driver.find_element_by_xpath(\"\"\"//*[@id=\"meta129398\"]/a\"\"\").click()\n",
    "            driver.find_element_by_xpath(\"\"\"//*[@id=\"ctgr947272\"]/a\"\"\").click()\n",
    "        elif sec == 35:\n",
    "            driver.find_element_by_xpath(\"\"\"//*[@id=\"meta129398\"]/a\"\"\").click()\n",
    "            driver.find_element_by_xpath(\"\"\"//*[@id=\"ctgr947270\"]/a\"\"\").click()\n",
    "        elif sec == 36:\n",
    "            driver.find_element_by_xpath(\"\"\"//*[@id=\"meta129398\"]/a\"\"\").click()\n",
    "            driver.find_element_by_xpath(\"\"\"//*[@id=\"ctgr947269\"]/a\"\"\").click()\n",
    "        elif sec == 37:\n",
    "            driver.find_element_by_xpath(\"\"\"//*[@id=\"meta129398\"]/a\"\"\").click()\n",
    "            driver.find_element_by_xpath(\"\"\"//*[@id=\"ctgr947271\"]/a\"\"\").click()\n",
    "        elif sec == 38:\n",
    "            driver.find_element_by_xpath(\"\"\"//*[@id=\"meta129398\"]/a\"\"\").click()\n",
    "            driver.find_element_by_xpath(\"\"\"//*[@id=\"ctgr980231\"]/a\"\"\").click()\n",
    "        elif sec == 39:\n",
    "            driver.find_element_by_xpath(\"\"\"//*[@id=\"meta129399\"]/a\"\"\").click()\n",
    "            driver.find_element_by_xpath(\"\"\"//*[@id=\"ctgr947250\"]/a\"\"\").click()\n",
    "        elif sec == 40:\n",
    "            driver.find_element_by_xpath(\"\"\"//*[@id=\"meta129399\"]/a\"\"\").click()\n",
    "            driver.find_element_by_xpath(\"\"\"//*[@id=\"ctgr947252\"]/a\"\"\").click()\n",
    "        elif sec == 41:\n",
    "            driver.find_element_by_xpath(\"\"\"//*[@id=\"meta129399\"]/a\"\"\").click()\n",
    "            driver.find_element_by_xpath(\"\"\"//*[@id=\"ctgr947917\"]/a\"\"\").click()\n",
    "        elif sec == 42:\n",
    "            driver.find_element_by_xpath(\"\"\"//*[@id=\"meta129399\"]/a\"\"\").click()\n",
    "            driver.find_element_by_xpath(\"\"\"//*[@id=\"ctgr947251\"]/a\"\"\").click()\n",
    "        elif sec == 43:\n",
    "            driver.find_element_by_xpath(\"\"\"//*[@id=\"meta129399\"]/a\"\"\").click()\n",
    "            driver.find_element_by_xpath(\"\"\"//*[@id=\"ctgr947251\"]/a\"\"\").click()\n",
    "        elif sec == 44:\n",
    "            driver.find_element_by_xpath(\"\"\"//*[@id=\"meta129399\"]/a\"\"\").click()\n",
    "            driver.find_element_by_xpath(\"\"\"//*[@id=\"ctgr947923\"]/a\"\"\").click()\n",
    "        elif sec == 45:\n",
    "            driver.find_element_by_xpath(\"\"\"//*[@id=\"meta129399\"]/a\"\"\").click()\n",
    "            driver.find_element_by_xpath(\"\"\"//*[@id=\"ctgr947255\"]/a\"\"\").click()\n",
    "        elif sec == 46:\n",
    "            driver.find_element_by_xpath(\"\"\"//*[@id=\"meta129399\"]/a\"\"\").click()\n",
    "            driver.find_element_by_xpath(\"\"\"//*[@id=\"ctgr947258\"]/a\"\"\").click()\n",
    "        elif sec == 47:\n",
    "            driver.find_element_by_xpath(\"\"\"//*[@id=\"meta129399\"]/a\"\"\").click()\n",
    "            driver.find_element_by_xpath(\"\"\"//*[@id=\"ctgr947253\"]/a\"\"\").click()\n",
    "        elif sec == 48:\n",
    "            driver.find_element_by_xpath(\"\"\"//*[@id=\"meta129399\"]/a\"\"\").click()\n",
    "            driver.find_element_by_xpath(\"\"\"//*[@id=\"ctgr947257\"]/a\"\"\").click()\n",
    "        elif sec == 49:\n",
    "            driver.find_element_by_xpath(\"\"\"//*[@id=\"meta129399\"]/a\"\"\").click()\n",
    "            driver.find_element_by_xpath(\"\"\"//*[@id=\"ctgr947254\"]/a\"\"\").click()\n",
    "        elif sec == 50:\n",
    "            driver.find_element_by_xpath(\"\"\"//*[@id=\"meta129399\"]/a\"\"\").click()\n",
    "            driver.find_element_by_xpath(\"\"\"//*[@id=\"ctgr947264\"]/a\"\"\").click()\n",
    "        elif sec == 51:\n",
    "            driver.find_element_by_xpath(\"\"\"//*[@id=\"meta129399\"]/a\"\"\").click()\n",
    "            driver.find_element_by_xpath(\"\"\"//*[@id=\"ctgr947259\"]/a\"\"\").click()\n",
    "        elif sec == 52:\n",
    "            driver.find_element_by_xpath(\"\"\"//*[@id=\"meta129399\"]/a\"\"\").click()\n",
    "            driver.find_element_by_xpath(\"\"\"//*[@id=\"ctgr947263\"]/a\"\"\").click()\n",
    "        elif sec == 53:\n",
    "            driver.find_element_by_xpath(\"\"\"//*[@id=\"meta129399\"]/a\"\"\").click()\n",
    "            driver.find_element_by_xpath(\"\"\"//*[@id=\"ctgr947261\"]/a\"\"\").click()\n",
    "        elif sec == 54:\n",
    "            driver.find_element_by_xpath(\"\"\"//*[@id=\"meta129399\"]/a\"\"\").click()\n",
    "            driver.find_element_by_xpath(\"\"\"//*[@id=\"ctgr947265\"]/a\"\"\").click()\n",
    "        elif sec == 55:\n",
    "            driver.find_element_by_xpath(\"\"\"//*[@id=\"meta129399\"]/a\"\"\").click()\n",
    "            driver.find_element_by_xpath(\"\"\"//*[@id=\"ctgr947266\"]/a\"\"\").click()\n",
    "        elif sec == 56:\n",
    "            driver.find_element_by_xpath(\"\"\"//*[@id=\"meta129400\"]/a\"\"\").click()\n",
    "            driver.find_element_by_xpath(\"\"\"//*[@id=\"ctgr947275\"]/a\"\"\").click()\n",
    "        elif sec == 57:\n",
    "            driver.find_element_by_xpath(\"\"\"//*[@id=\"meta129400\"]/a\"\"\").click()\n",
    "            driver.find_element_by_xpath(\"\"\"//*[@id=\"ctgr947283\"]/a\"\"\").click()\n",
    "        elif sec == 58:\n",
    "            driver.find_element_by_xpath(\"\"\"//*[@id=\"meta129400\"]/a\"\"\").click()\n",
    "            driver.find_element_by_xpath(\"\"\"//*[@id=\"ctgr947273\"]/a\"\"\").click()\n",
    "        elif sec == 59:\n",
    "            driver.find_element_by_xpath(\"\"\"//*[@id=\"meta129400\"]/a\"\"\").click()\n",
    "            driver.find_element_by_xpath(\"\"\"//*[@id=\"ctgr947277\"]/a\"\"\").click()\n",
    "        elif sec == 60:\n",
    "            driver.find_element_by_xpath(\"\"\"//*[@id=\"meta129400\"]/a\"\"\").click()\n",
    "            driver.find_element_by_xpath(\"\"\"//*[@id=\"ctgr947281\"]/a\"\"\").click()\n",
    "        elif sec == 61:\n",
    "            driver.find_element_by_xpath(\"\"\"//*[@id=\"meta129400\"]/a\"\"\").click()\n",
    "            driver.find_element_by_xpath(\"\"\"//*[@id=\"ctgr947279\"]/a\"\"\").click()\n",
    "        elif sec == 62:\n",
    "            driver.find_element_by_xpath(\"\"\"//*[@id=\"meta129400\"]/a\"\"\").click()\n",
    "            driver.find_element_by_xpath(\"\"\"//*[@id=\"ctgr947274\"]/a\"\"\").click()\n",
    "        elif sec == 63:\n",
    "            driver.find_element_by_xpath(\"\"\"//*[@id=\"meta129400\"]/a\"\"\").click()\n",
    "            driver.find_element_by_xpath(\"\"\"//*[@id=\"ctgr947280\"]/a\"\"\").click()\n",
    "        elif sec == 64:\n",
    "            driver.find_element_by_xpath(\"\"\"//*[@id=\"meta129400\"]/a\"\"\").click()\n",
    "            driver.find_element_by_xpath(\"\"\"//*[@id=\"ctgr947278\"]/a\"\"\").click()\n",
    "        elif sec == 65:\n",
    "            driver.find_element_by_xpath(\"\"\"//*[@id=\"meta129400\"]/a\"\"\").click()\n",
    "            driver.find_element_by_xpath(\"\"\"//*[@id=\"ctgr947282\"]/a\"\"\").click()\n",
    "        elif sec == 66:\n",
    "            driver.find_element_by_xpath(\"\"\"//*[@id=\"meta129401\"]/a\"\"\").click()\n",
    "            driver.find_element_by_xpath(\"\"\"//*[@id=\"ctgr947560\"]/a\"\"\").click()\n",
    "        elif sec == 67:\n",
    "            driver.find_element_by_xpath(\"\"\"//*[@id=\"meta129401\"]/a\"\"\").click()\n",
    "            driver.find_element_by_xpath(\"\"\"//*[@id=\"ctgr947559\"]/a\"\"\").click()\n",
    "        elif sec == 68:\n",
    "            driver.find_element_by_xpath(\"\"\"//*[@id=\"meta129401\"]/a\"\"\").click()\n",
    "            driver.find_element_by_xpath(\"\"\"//*[@id=\"ctgr947554\"]/a\"\"\").click()\n",
    "        elif sec == 69:\n",
    "            driver.find_element_by_xpath(\"\"\"//*[@id=\"meta129401\"]/a\"\"\").click()\n",
    "            driver.find_element_by_xpath(\"\"\"//*[@id=\"ctgr947549\"]/a\"\"\").click()\n",
    "        elif sec == 70:\n",
    "            driver.find_element_by_xpath(\"\"\"//*[@id=\"meta129401\"]/a\"\"\").click()\n",
    "            driver.find_element_by_xpath(\"\"\"//*[@id=\"ctgr1059813\"]/a\"\"\").click()\n",
    "        elif sec == 71:\n",
    "            driver.find_element_by_xpath(\"\"\"//*[@id=\"meta129401\"]/a\"\"\").click()\n",
    "            driver.find_element_by_xpath(\"\"\"//*[@id=\"ctgr947558\"]/a\"\"\").click()\n",
    "        elif sec == 72:\n",
    "            driver.find_element_by_xpath(\"\"\"//*[@id=\"meta129401\"]/a\"\"\").click()\n",
    "            driver.find_element_by_xpath(\"\"\"//*[@id=\"ctgr947647\"]/a\"\"\").click()\n",
    "        elif sec == 73:\n",
    "            driver.find_element_by_xpath(\"\"\"//*[@id=\"meta129401\"]/a\"\"\").click()\n",
    "            driver.find_element_by_xpath(\"\"\"//*[@id=\"ctgr947648\"]/a\"\"\").click()\n",
    "        elif sec == 74:\n",
    "            driver.find_element_by_xpath(\"\"\"//*[@id=\"meta129401\"]/a\"\"\").click()\n",
    "            driver.find_element_by_xpath(\"\"\"//*[@id=\"ctgr1019291\"]/a\"\"\").click()\n",
    "        elif sec == 75:\n",
    "            driver.find_element_by_xpath(\"\"\"//*[@id=\"meta129401\"]/a\"\"\").click()\n",
    "            driver.find_element_by_xpath(\"\"\"//*[@id=\"ctgr1019295\"]/a\"\"\").click()\n",
    "        elif sec == 76:\n",
    "            driver.find_element_by_xpath(\"\"\"//*[@id=\"meta129401\"]/a\"\"\").click()\n",
    "            driver.find_element_by_xpath(\"\"\"//*[@id=\"ctgr947649\"]/a\"\"\").click()\n",
    "        elif sec == 77:\n",
    "            driver.find_element_by_xpath(\"\"\"//*[@id=\"meta129401\"]/a\"\"\").click()\n",
    "            driver.find_element_by_xpath(\"\"\"//*[@id=\"ctgr952352\"]/a\"\"\").click()\n",
    "        elif sec == 78:\n",
    "            driver.find_element_by_xpath(\"\"\"//*[@id=\"meta129401\"]/a\"\"\").click()\n",
    "            driver.find_element_by_xpath(\"\"\"//*[@id=\"ctgr952353\"]/a\"\"\").click()\n",
    "        elif sec == 79:\n",
    "            driver.find_element_by_xpath(\"\"\"//*[@id=\"meta129401\"]/a\"\"\").click()\n",
    "            driver.find_element_by_xpath(\"\"\"//*[@id=\"ctgr1019281\"]/a\"\"\").click()\n",
    "\n",
    "        time.sleep(1)\n",
    "        scroll_down(driver)\n",
    "        full_html = driver.page_source\n",
    "        soup = BeautifulSoup(full_html, 'html.parser')\n",
    "        \n",
    "        \n",
    "        for cfix in soup.find_all('div', class_ = 'viewtype3'):\n",
    "            for box_pd in cfix.find_all('li'):\n",
    "                content_href.append(box_pd.find('a')['href'])\n",
    "        print(sec, '= 제품군 종류')\n",
    "        print('총 개수 = ', len(content_href))\n",
    "        \n",
    "    return content_href\n",
    "\n",
    "result = href_crawler()\n",
    "driver.close()\n",
    "result"
   ]
  },
  {
   "cell_type": "code",
   "execution_count": 92,
   "metadata": {},
   "outputs": [],
   "source": [
    "for i in result[:]:\n",
    "    if i[0:12] == 'https://deal':\n",
    "        result.remove(i)"
   ]
  },
  {
   "cell_type": "code",
   "execution_count": 97,
   "metadata": {},
   "outputs": [
    {
     "data": {
      "text/plain": [
       "196"
      ]
     },
     "execution_count": 97,
     "metadata": {},
     "output_type": "execute_result"
    }
   ],
   "source": [
    "len(content_href)"
   ]
  },
  {
   "cell_type": "code",
   "execution_count": 10,
   "metadata": {},
   "outputs": [],
   "source": [
    "#1. RESULT를 파일로 옮겨담고 새로운 노트북에서 파일 열기\n",
    "#2. 파일을 가져와서 리스트화 하기\n",
    "#3. 하나씩 링크로 들어가서 자료 뽑기\n",
    "#3-1. 오늘 날짜, 상품 이름, 대분류, 공급자 이름, 공급자 특성, 긍정리뷰, 응답률, 판매량 \n",
    "#     남은세일시간, 구매량, 리뷰 수, 할인률, 가격, 무료배송, 구매만족도, 평점 분포, \n",
    "#     기능별평점, 동영상포토 수, 기능별 리뷰 수"
   ]
  },
  {
   "cell_type": "code",
   "execution_count": 12,
   "metadata": {},
   "outputs": [],
   "source": [
    "#RESULT를 파일로 옮겨담기\n",
    "s = '%d-%d-%d' % (now.tm_year, now.tm_mon, now.tm_mday)\n",
    "dir = '/Users/hyunwoopark/Desktop/11st_crawling/href_crwaling/'+s\n",
    "f = open(dir, 'w')\n",
    "f.write('\\n'.join(result))\n",
    "f.close()\n",
    "\n"
   ]
  },
  {
   "cell_type": "code",
   "execution_count": null,
   "metadata": {},
   "outputs": [],
   "source": []
  }
 ],
 "metadata": {
  "colab": {
   "name": "Untitled0.ipynb",
   "provenance": []
  },
  "kernelspec": {
   "display_name": "Python 3",
   "language": "python",
   "name": "python3"
  },
  "language_info": {
   "codemirror_mode": {
    "name": "ipython",
    "version": 3
   },
   "file_extension": ".py",
   "mimetype": "text/x-python",
   "name": "python",
   "nbconvert_exporter": "python",
   "pygments_lexer": "ipython3",
   "version": "3.8.3"
  }
 },
 "nbformat": 4,
 "nbformat_minor": 1
}
